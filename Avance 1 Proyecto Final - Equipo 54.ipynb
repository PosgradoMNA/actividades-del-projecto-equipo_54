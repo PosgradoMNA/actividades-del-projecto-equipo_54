{
  "nbformat": 4,
  "nbformat_minor": 0,
  "metadata": {
    "colab": {
      "provenance": []
    },
    "kernelspec": {
      "name": "python3",
      "display_name": "Python 3"
    },
    "language_info": {
      "name": "python"
    }
  },
  "cells": [
    {
      "cell_type": "code",
      "execution_count": 3,
      "metadata": {
        "id": "K_hwWLng5Jgf"
      },
      "outputs": [],
      "source": [
        "# Proyecto final del equipo 54 "
      ]
    },
    {
      "cell_type": "markdown",
      "source": [
        "# **`Proyecto final del equipo 54 `**\n",
        "\n",
        "**Integrantes:**\n",
        "\n",
        "\n",
        "*   Luis Eduardo Rojas Zepeda - A01794121\n",
        "*   Giovanni Andrés Acuña Morales - A01794007\n",
        "\n",
        "\n",
        "\n",
        "---\n",
        "\n",
        "# **Avance 1**\n",
        "\n",
        "**1. El nombre que caracteriza el conjunto de datos**\n",
        "\n",
        "**2. La organización que lo generó.**\n",
        "\n",
        "**3. Incluya un enlace de Internet donde se puedan descargar el base de datos en línea**\n",
        "\n",
        "**4. Describe el conjunto de datos. ¿Qué datos contiene?**\n",
        "\n",
        "**5. ¿Cuáles son algunas de las preguntas de investigación que podría responder con estos datos? Enumere al menos OCHO (no responda las preguntas).**\n",
        "\n",
        "**6. ¿Qué actor (empresa, sector de la sociedad, organismo descentralizado, gobierno, etc.) estaría interesado en las preguntas mencionadas que identificó?**"
      ],
      "metadata": {
        "id": "9aN4fau35dGs"
      }
    }
  ]
}
