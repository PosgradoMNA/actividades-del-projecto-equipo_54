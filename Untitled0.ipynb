{
  "nbformat": 4,
  "nbformat_minor": 0,
  "metadata": {
    "colab": {
      "provenance": []
    },
    "kernelspec": {
      "name": "python3",
      "display_name": "Python 3"
    },
    "language_info": {
      "name": "python"
    }
  },
  "cells": [
    {
      "cell_type": "code",
      "execution_count": null,
      "metadata": {
        "id": "K_hwWLng5Jgf"
      },
      "outputs": [],
      "source": [
        "# Proyecto final del equipo 54 "
      ]
    },
    {
      "cell_type": "code",
      "source": [
        "age  = 18\n",
        "\n",
        "if(age > 19):\n",
        "\n",
        "    print('Yes')\n",
        "\n",
        "    print('No')"
      ],
      "metadata": {
        "id": "-StMRILmKMWF"
      },
      "execution_count": null,
      "outputs": []
    },
    {
      "cell_type": "markdown",
      "source": [
        "# **`Proyecto final del equipo 54 `**\n",
        "\n",
        "**Integrantes:**\n",
        "\n",
        "\n",
        "*   Luis Eduardo Rojas Zepeda - A01794121\n",
        "*   Giovanni Andrés Acuña Morales - A01794007\n",
        "\n",
        "\n",
        "\n",
        "---\n",
        "\n",
        "# **Avance 1**\n",
        "\n",
        "**1. El nombre que caracteriza el conjunto de datos**\n",
        "\n",
        "Encuesta de salud mental en tecnología\n",
        "\n",
        "<br>\n",
        "\n",
        "**2. La organización que lo generó.**\n",
        "\n",
        "Open Sourcing Mental Illness\n",
        "\n",
        "<br>\n",
        "\n",
        "**3. Incluya un enlace de Internet donde se puedan descargar el base de datos en línea**\n",
        "\n",
        "https://www.kaggle.com/datasets/osmi/mental-health-in-tech-survey\n",
        "\n",
        "<br>\n",
        "\n",
        "**4. Describe el conjunto de datos. ¿Qué datos contiene?**\n",
        "\n",
        "Este conjunto de datos proviene de una encuesta de 2014 que mide las actitudes hacia la salud mental y la frecuencia de los trastornos de salud mental en el lugar de trabajo tecnológico. Este conjunto de datos contiene los siguientes datos:\n",
        "\n",
        "1. Marca de tiempo\n",
        "2. Edad\n",
        "3. Género\n",
        "4. País\n",
        "5. Estado: Si vives en los Estados Unidos, ¿en qué estado o territorio vives?\n",
        "6. Autónomos: ¿Eres autónomo?\n",
        "7. Family_history: ¿Tienes antecedentes familiares de enfermedad mental?\n",
        "8. Tratamiento: ¿Ha buscado tratamiento para una afección de salud mental?\n",
        "9. Work_interfere: Si tienes una afección de salud mental, ¿sientes que interfiere con tu trabajo?\n",
        "10. no_employees: ¿Cuántos empleados tiene su empresa u organización?\n",
        "11. remote_work: ¿Trabajas de forma remota (fuera de una oficina) al menos el 50 % del tiempo?\n",
        "12. tech_company: ¿Es su empleador principalmente una empresa/organización tecnológica?\n",
        "13. beneficios: ¿Su empleador proporciona beneficios de salud mental?\n",
        "14. care_options: ¿Conoces las opciones de atención de salud mental que ofrece tu empleador?\n",
        "15. programa de bienestar: ¿Su empleador ha hablado alguna vez de la salud mental como parte de un programa de bienestar de los empleados?\n",
        "16. seek_help: ¿Su empleador proporciona recursos para obtener más información sobre problemas de salud mental y cómo buscar ayuda?\n",
        "17. anonimato: ¿Está protegido su anonimato si decide aprovechar los recursos de salud mental o tratamiento del abuso de sustancias?\n",
        "18. licencia: ¿Qué tan fácil es para ti tomar una licencia médica por una afección de salud mental?\n",
        "19. consecuencia de salud mental: ¿cree que discutir un problema de salud mental con su empleador tendría consecuencias negativas?\n",
        "20. consecuencia de la salud física: ¿Crees que discutir un problema de salud física con tu empleador tendría consecuencias negativas?\n",
        "21. compañeros de trabajo: ¿Estarías dispuesto a discutir un problema de salud mental con tus compañeros de trabajo?\n",
        "22. supervisor: ¿Estaría dispuesto a discutir un problema de salud mental con su(s) supervisor(s) directo(s)?\n",
        "23. entrevista de salud mental: ¿Traerías un problema de salud mental con un posible empleador en una entrevista?\n",
        "24. entrevista de physhealth: ¿Santarías un problema de salud física con un posible empleador en una entrevista?\n",
        "25. mentalvsphysical: ¿Sientes que tu empleador se toma la salud mental tan en serio como la física?\n",
        "26. obs_consequence: ¿Has oído hablar u observado consecuencias negativas para los compañeros de trabajo con problemas de salud mental en tu lugar de trabajo?\n",
        "27. comentarios: Cualquier nota o comentario adicional\n",
        "\n",
        "<br>\n",
        "\n",
        "**5. ¿Cuáles son algunas de las preguntas de investigación que podría responder con estos datos? Enumere al menos OCHO (no responda las preguntas).**\n",
        "\n",
        "1. ¿Cómo varía la frecuencia de las enfermedades de salud mental y las actitudes hacia la salud mental según la ubicación geográfica?\n",
        "\n",
        "2. ¿Cuáles son los predictores más fuertes de enfermedades de salud mental o ciertas actitudes hacia la salud mental en el lugar de trabajo?\n",
        "\n",
        "3. ¿Qué parámetros pueden reflejar un cambio significativo positivamente?\n",
        "\n",
        "4. ¿Cómo varian los resultados en el transcurso del tiempo?\n",
        "\n",
        "5. ¿Los empleados que respondieron que tienen actividades relacionadas con la toma de acción que resultados obtienen a diferencia de los que no?\n",
        "\n",
        "6. ¿Qué relación hay entre en número de empleados de una organización y las atenciones que ofrece?\n",
        "\n",
        "7. ¿Qué factores determinan que un empleado utilice los recursos de salud mental que ofrece la organización?\n",
        "\n",
        "8. ¿Qué se puede inferir relevante de los comentarios adicionales?\n",
        "\n",
        "<br>\n",
        "\n",
        "**6. ¿Qué actor (empresa, sector de la sociedad, organismo descentralizado, gobierno, etc.) estaría interesado en las preguntas mencionadas que identificó?**\n",
        "\n",
        "* Empresas públicas y privadas del sector de ciencia y tecnología.\n",
        "\n",
        "* Empleados interesados en conocer los factores más importantes para el bienstar mental.\n",
        "\n",
        "* Centros de investigación.\n"
      ],
      "metadata": {
        "id": "9aN4fau35dGs"
      }
    }
  ]
}